{
 "cells": [
  {
   "cell_type": "markdown",
   "id": "72ea2152",
   "metadata": {},
   "source": [
    "# Reading Data"
   ]
  },
  {
   "cell_type": "code",
   "execution_count": 3,
   "id": "217db039",
   "metadata": {
    "scrolled": true
   },
   "outputs": [],
   "source": [
    "#pip install pandas"
   ]
  },
  {
   "cell_type": "code",
   "execution_count": 4,
   "id": "ce3b75f3",
   "metadata": {},
   "outputs": [],
   "source": [
    "import pandas as pd"
   ]
  },
  {
   "cell_type": "code",
   "execution_count": 5,
   "id": "ab1663d9",
   "metadata": {
    "scrolled": true
   },
   "outputs": [
    {
     "name": "stdout",
     "output_type": "stream",
     "text": [
      "                                                                       comment\n",
      "0           aa judges ni change cheysey daka programme chuddam manestey better\n",
      "1                        Aa kamma koritala gaadu kavalni chetta cinema teesadu\n",
      "2      Aa Karthika deepam timing marchesthe intlo chala mandi matches chudachu\n",
      "3                  Aa Kick ye veeru yenni sarlu chusinaa chudali anipisthundhi\n",
      "4                                            Aa kothi dancer ni pampandi mundu\n",
      "...                                                                        ...\n",
      "23852                                                     Jelo pettandi vadini\n",
      "23853     Anil garu\\nMiru rithu antunaru raithula kastalu miku thelusa ra sale\n",
      "23854               Satish Kumar ni kotandi brother vadu pastor useless fellow\n",
      "23855                                                       Vadu chillara gadu\n",
      "23856                           Bokkara ne abivruddi soniyamma Neku chepindara\n",
      "\n",
      "[23857 rows x 1 columns]\n"
     ]
    }
   ],
   "source": [
    "pd.set_option('display.max_colwidth',100)\n",
    "data = pd.read_csv('24k.csv')\n",
    "print (data)"
   ]
  },
  {
   "cell_type": "markdown",
   "id": "63634c93",
   "metadata": {},
   "source": [
    "# Preprocessing"
   ]
  },
  {
   "cell_type": "code",
   "execution_count": 6,
   "id": "f83ca3af",
   "metadata": {
    "scrolled": true
   },
   "outputs": [
    {
     "name": "stdout",
     "output_type": "stream",
     "text": [
      "                                                                       comment  \\\n",
      "0           aa judges ni change cheysey daka programme chuddam manestey better   \n",
      "1                        Aa kamma koritala gaadu kavalni chetta cinema teesadu   \n",
      "2      Aa Karthika deepam timing marchesthe intlo chala mandi matches chudachu   \n",
      "3                  Aa Kick ye veeru yenni sarlu chusinaa chudali anipisthundhi   \n",
      "4                                            Aa kothi dancer ni pampandi mundu   \n",
      "...                                                                        ...   \n",
      "23852                                                     Jelo pettandi vadini   \n",
      "23853     Anil garu\\nMiru rithu antunaru raithula kastalu miku thelusa ra sale   \n",
      "23854               Satish Kumar ni kotandi brother vadu pastor useless fellow   \n",
      "23855                                                       Vadu chillara gadu   \n",
      "23856                           Bokkara ne abivruddi soniyamma Neku chepindara   \n",
      "\n",
      "                                                                     msg_clean  \n",
      "0           aa judges ni change cheysey daka programme chuddam manestey better  \n",
      "1                        Aa kamma koritala gaadu kavalni chetta cinema teesadu  \n",
      "2      Aa Karthika deepam timing marchesthe intlo chala mandi matches chudachu  \n",
      "3                  Aa Kick ye veeru yenni sarlu chusinaa chudali anipisthundhi  \n",
      "4                                            Aa kothi dancer ni pampandi mundu  \n",
      "...                                                                        ...  \n",
      "23852                                                     Jelo pettandi vadini  \n",
      "23853     Anil garu\\nMiru rithu antunaru raithula kastalu miku thelusa ra sale  \n",
      "23854               Satish Kumar ni kotandi brother vadu pastor useless fellow  \n",
      "23855                                                       Vadu chillara gadu  \n",
      "23856                           Bokkara ne abivruddi soniyamma Neku chepindara  \n",
      "\n",
      "[23857 rows x 2 columns]\n"
     ]
    }
   ],
   "source": [
    "import string\n",
    "def remove_punctuation(txt):\n",
    "    txt_nopunct=\"\".join([word for word in txt if word not in string.punctuation])\n",
    "    return txt_nopunct\n",
    "data['msg_clean']=data['comment'].apply(lambda x: remove_punctuation(x))\n",
    "print(data)"
   ]
  },
  {
   "cell_type": "code",
   "execution_count": 7,
   "id": "ac44355c",
   "metadata": {},
   "outputs": [],
   "source": [
    "#pip install nltk"
   ]
  },
  {
   "cell_type": "code",
   "execution_count": 8,
   "id": "82e49b75",
   "metadata": {
    "scrolled": true
   },
   "outputs": [
    {
     "name": "stderr",
     "output_type": "stream",
     "text": [
      "[nltk_data] Downloading package stopwords to\n",
      "[nltk_data]     C:\\Users\\Nagajyothi\\AppData\\Roaming\\nltk_data...\n",
      "[nltk_data]   Package stopwords is already up-to-date!\n"
     ]
    },
    {
     "data": {
      "text/plain": [
       "True"
      ]
     },
     "execution_count": 8,
     "metadata": {},
     "output_type": "execute_result"
    }
   ],
   "source": [
    "import nltk\n",
    "from nltk.corpus import stopwords\n",
    "nltk.download('stopwords')"
   ]
  },
  {
   "cell_type": "code",
   "execution_count": 9,
   "id": "4405d1ff",
   "metadata": {},
   "outputs": [
    {
     "name": "stdout",
     "output_type": "stream",
     "text": [
      "                                                                   comment  \\\n",
      "0       aa judges ni change cheysey daka programme chuddam manestey better   \n",
      "1                    Aa kamma koritala gaadu kavalni chetta cinema teesadu   \n",
      "2  Aa Karthika deepam timing marchesthe intlo chala mandi matches chudachu   \n",
      "3              Aa Kick ye veeru yenni sarlu chusinaa chudali anipisthundhi   \n",
      "4                                        Aa kothi dancer ni pampandi mundu   \n",
      "\n",
      "                                                                 msg_clean  \\\n",
      "0       aa judges ni change cheysey daka programme chuddam manestey better   \n",
      "1                    Aa kamma koritala gaadu kavalni chetta cinema teesadu   \n",
      "2  Aa Karthika deepam timing marchesthe intlo chala mandi matches chudachu   \n",
      "3              Aa Kick ye veeru yenni sarlu chusinaa chudali anipisthundhi   \n",
      "4                                        Aa kothi dancer ni pampandi mundu   \n",
      "\n",
      "                                                                            tokenized  \n",
      "0       [aa, judges, ni, change, cheysey, daka, programme, chuddam, manestey, better]  \n",
      "1                      [aa, kamma, koritala, gaadu, kavalni, chetta, cinema, teesadu]  \n",
      "2  [aa, karthika, deepam, timing, marchesthe, intlo, chala, mandi, matches, chudachu]  \n",
      "3               [aa, kick, ye, veeru, yenni, sarlu, chusinaa, chudali, anipisthundhi]  \n",
      "4                                            [aa, kothi, dancer, ni, pampandi, mundu]  \n"
     ]
    }
   ],
   "source": [
    "import re\n",
    "def tokenize(txt):\n",
    "    tokens=re.split('\\W+',txt)\n",
    "    return tokens\n",
    "data['tokenized']=data['msg_clean'].apply(lambda x: tokenize(x.lower()))\n",
    "print(data.head())"
   ]
  },
  {
   "cell_type": "code",
   "execution_count": 10,
   "id": "1dbf67d6",
   "metadata": {},
   "outputs": [],
   "source": [
    "eng_stopwords = set(stopwords.words(\"english\"))\n",
    "\n",
    "tel_stopwords = [\"chetha\",\"cheta\",\"valana\",\"gurchi\",\"goorchi\",\"koraku\",\"andhu\",\"ori\",\"oree\",\"ooyee\",\"oyee\",\"ooyi\",\"oosee\",\"osee\",\"oosi\",\"osi\",\"ee\",\"e\",\"aa\",\"a\",\"nunchi\",\"kudaa\",\"kuda\",\"kooda\",\"koodaa\",\"mi\",\"mii\",\"me\",\"mee\",\"na\",\"naa\",\"un\",\"oka\",\"undhi\",\"vundhi\",\"vundi\",\"vundhe\",\"vunde\",\"unde\",\"undhe\",\"undi\",\"kani\",\"kaani\",\"kanee\",\"idhi\",\"ide\",\"kosam\",\"tha\",\"ayithe\",\"aithe\",\"ayitha\",\n",
    "              \"aitha\",\"aite\",\"ayite\",\"ma\",\"ante\",\"antaa\",\"anta\",\"chala\",\"ila\",\"ilaa\",\"ela\",\"vunde\",\"unde\",\"vunda\",\"unda\",\"ane\",\"anaa\",\"vari\",\"vaari\",\"meeru\",\"meru\",\"miru\",\"ela\",\"ala\",\"peru\",\"veeti\",\"ippu\",\"eppu\",\"gurinchi\",\"vara\",\"pun\",\"andhu\",\"paatu\",\"patu\",\"ann\",\"pa\",\"dhee\",\"oo\",\"ani\",\"ki\",\"ku\",\"la\",\"em\",\"inka\",\"enka\",\"ni\",\"ye\",\"ra\",\"du\",\"1\",\"2\",\"3\",\"4\",\"5\",\"6\",\"7\",\"8\",\"9\",\"0\",\n",
    "              \"lo\",\"ga\",\"u\",\"ne\",\"tho\",\"anna\",\"adi\",\"ra\",\"ur\",\"iam\",\"im\",\"anna\",\"bro\",\"sis\",\"plz\",\"asalu\",\"antha\",\"nee\",\"andi\",\"enti\",\"mari\",\"ledhu\",\"lu\",\"chesi\",\"kadha\",\"ka\",\"valla\",\"vallu\",\"anni\",\"adhi\",\"malli\",\"ke\",\"ekkada\",\"entha\",\"dont\",\"didnt\",\"kadu\",\"unte\",\"appudu\",\"enni\",\"Enduku\",\"emi\",\"meku\",\"unna\",\"okka\",\"chusi\",\"chesa\",\"edi\",\"raa\",\"meeku\",\"vere\",\n",
    "                 \"niku\",\"katti\",\"chusina\",\"idi\",\"laga\",\"epudu\",\"mundu\",\"edhi\",\"leda\",\"entra\",\"cant\",\"anti\",\"chepu\",\"neku\",\"naaku\",\"elanti\",\"sari\",\"ippudu\",\"sarlu\",\"nundi\",\"baaga\",\"rey\",\"intha\",\"evaru\",\"kanna\",\"meda\",\"ilanti\",\"gari\",\"gadu\",\"sir\",\"video\",\"please\",\"super\",\"good\",\"like\",\"videos\",\"one\",\"thank\",\"best\",\"garu\",\"naku\",\"hi\",\"much\",\"use\",\"thanks\",\"nice\",\"also\",\"pls\",\"kada\",\"mana\",\"cheyandi\",\"channel\",\"telugu\",\n",
    "                 \"rishi\",\"great\",\"brother\",\"cheppandi\",\"reply\",\"try\",\"ledu\",\"know\",\"baga\",\"really\",\"r\",\"vasu\",\"keep\",\"first\",\"manchi\",\"want\",\"next\",\"tell\",\"nuvvu\",\"get\",\"madam\",\"give\",\"see\",\"many\",\"number\",\"k\",\"us\",\"change\",\"every\",\"tq\",\"better\",\"name\",\"think\",\"last\",\"th\",\"reddy\",\"take\",\"endhuku\",\"comment\",\"cheyali\",\"maa\",\"full\",\"need\",\"go\",\"chesina\",\"ok\",\"n\",\"babu\",\"manam\",\"eppudu\",\"even\",\"chesaru\",\"hai\",\"amazing\",\"vedio\",\"correct\",\n",
    "                 \"always\",\"lot\",\"sister\",\"memu\",\"say\",\"maku\",\"cheppandi\",\"may\",\"doubt\",\"kavali\",\"would\",\"well\",\"ekkuva\",\"going\",\"ha\",\"nd\",\"cheyyandi\",\"yes\",\"come\",\"chepparu\",\"cheppu\",\"cheste\",\"nuvu\",\"gaa\",\"meeda\",\"got\",\"made\",\"chaala\",\"useful\",\"chesanu\",\"bad\",\"already\",\"two\",\"hello\",\"avi\",\"never\",\"chese\",\"type\",\"andharu\",\"konchem\",\"said\",\"plzz\",\"ah\",\"untundi\",\"chey\",\"pani\",\"kadhu\",\"nv\",\"without\",\"annaya\",\"miku\",\"akkada\",\"aina\",\"varaku\",\"thing\",\"konchem\",\"g\",\"true\",\"konni\",\"matram\",\"mm\",\"let\",\n",
    "                 \"chinna\",\"de\",\"hii\",\"vallaki\",\"andhuke\",\"nu\",\"ade\",\"neeku\",\"okasari\",\"se\",\"gaaru\",\"giving\",\"per\",\"chestaru\",\"vasthundi\",\"daggara\", \"madni\",\"add\",\"c\",\"vunna\",\"cheyyali\",\"petti\",\"vachindi\",\"still\",\"vunte\",\"lekunda\",\"cheyadam\",\"undali\",\"endhuku\",\"untundhi\",\"sorry\",\"antaru\",\"annaru\",\"tried\",\"sure\",\"make\",\"enduku\",\"new\",\"bagundi\",\"daily\",\"roju\",\"day\",\"ami\",\"ayina\",\"yela\",\"anthe\",\"leka\",\"emo\",\"anthe\",\"gani\",\"akka\",\"amma\",\"nenu\",'news',\"broo\"]\n",
    "\n",
    "special_chars=[\"Ã\",\" \",\"\",\"¢\",\"ï\",\"à\",'ù',\"ð\",\"Ã¢?Â¦\",\"?\",\"¦\",'~', ':', \"'\", '+', '[', '\\\\', '@', '^', '{', '%', '(', '-', '\"', '*', '|', ',', '&', '<', '`', '}', '.', '_', '=', ']', '!', '>', ';', '?', '#', '$', ')', '/']"
   ]
  },
  {
   "cell_type": "code",
   "execution_count": 11,
   "id": "6d474e93",
   "metadata": {
    "scrolled": false
   },
   "outputs": [],
   "source": [
    "def dele_stopwords_english(txt):\n",
    "    txt_rsw=[word for word in txt if word not in eng_stopwords]\n",
    "    return txt_rsw\n",
    "def dele_stopwords_telugu(txt):\n",
    "    txt_rsw=[word for word in txt if word not in tel_stopwords]\n",
    "    return txt_rsw\n",
    "def del_special_chars(txt):\n",
    "  txt_rsw=[word for word in txt if word not in special_chars]\n",
    "  return txt_rsw\n",
    "temp=data['english']=data['tokenized'].apply(lambda x: dele_stopwords_english(x))\n",
    "data['telugu']=data['english'].apply(lambda x: dele_stopwords_telugu(x))\n",
    "data['telugu']=data['telugu'].apply(lambda x: del_special_chars(x))"
   ]
  },
  {
   "cell_type": "code",
   "execution_count": 12,
   "id": "4de518e3",
   "metadata": {},
   "outputs": [
    {
     "name": "stdout",
     "output_type": "stream",
     "text": [
      "Total unique words in corpus:  29553\n"
     ]
    }
   ],
   "source": [
    "from nltk import FreqDist\n",
    "all_words = []\n",
    "[all_words.extend(text) for text in data['telugu']]\n",
    "fdist = FreqDist(all_words)\n",
    "print(\"Total unique words in corpus: \", len(fdist))"
   ]
  },
  {
   "cell_type": "code",
   "execution_count": 13,
   "id": "9b5d9995",
   "metadata": {
    "scrolled": true
   },
   "outputs": [
    {
     "name": "stdout",
     "output_type": "stream",
     "text": [
      "[('movie', 661), ('england', 472), ('match', 450), ('love', 415), ('phone', 392), ('world', 368), ('mobile', 356), ('episode', 307), ('cup', 283), ('cricket', 255), ('time', 250), ('dhoni', 249), ('story', 246), ('madhu', 243), ('kathi', 238), ('song', 233), ('serial', 231), ('review', 219), ('zealand', 218), ('team', 206), ('win', 203), ('bayya', 198), ('comedy', 197), ('india', 195), ('game', 193), ('film', 192), ('congratulations', 192), ('ever', 185), ('life', 184), ('fan', 182), ('nz', 182), ('cinema', 181), ('mahesh', 180), ('final', 180), ('upload', 179), ('arey', 177), ('acting', 171), ('voice', 167), ('superb', 164), ('face', 153), ('help', 153), ('shannu', 150), ('music', 148), ('bagundhi', 147), ('back', 147), ('jai', 145), ('boss', 145), ('fans', 143), ('camera', 140), ('class', 139), ('short', 138), ('real', 138), ('big', 137), ('icc', 137), ('happy', 136), ('app', 136), ('bhai', 134), ('waiting', 131), ('oil', 126), ('support', 124), ('mam', 123), ('bhayya', 123), ('series', 123), ('history', 119), ('show', 118), ('stokes', 118), ('link', 117), ('middle', 116), ('software', 116), ('prank', 115), ('hair', 110), ('puri', 110), ('hero', 109), ('chepandi', 106), ('dance', 105), ('sudheer', 104), ('action', 101), ('chi', 101), ('free', 100), ('played', 99), ('water', 96), ('call', 96), ('winner', 94), ('explain', 94), ('release', 92), ('recipe', 92), ('youtube', 90), ('tv', 90), ('job', 89), ('watch', 89), ('black', 89), ('watching', 88), ('koncham', 87), ('player', 86), ('sindhu', 86), ('awesome', 85), ('fake', 85), ('ben', 85), ('worst', 84), ('heart', 84), ('pettandi', 84), ('god', 83), ('master', 82), ('beautiful', 82), ('feel', 82), ('bgm', 81), ('fast', 81), ('indian', 81), ('promo', 79), ('waste', 78), ('work', 78), ('man', 77), ('money', 77), ('background', 75), ('fire', 75), ('climax', 74), ('telangana', 74), ('vs', 74), ('version', 74), ('hit', 73), ('iphone', 73), ('whatsapp', 73), ('andaru', 72), ('movies', 72), ('problem', 72), ('set', 71), ('comments', 71), ('episodes', 71), ('character', 70), ('cute', 70), ('cheating', 70), ('brazil', 70), ('bigg', 69), ('seen', 69), ('play', 69), ('bobby', 69), ('performance', 68), ('download', 67), ('english', 67), ('people', 66), ('family', 66), ('trs', 66), ('could', 66), ('ball', 66), ('abba', 65), ('ammai', 65), ('baby', 65), ('rules', 65), ('subscribe', 64), ('lol', 63), ('david', 63), ('newzealand', 63), ('nuv', 62), ('chudandi', 62), ('annayya', 62), ('luck', 62), ('challa', 61), ('today', 61), ('home', 61), ('phones', 61), ('keka', 60), ('tips', 60), ('excellent', 60), ('lost', 60), ('chetta', 59), ('end', 59), ('wow', 59), ('screen', 58), ('director', 58), ('editing', 58), ('android', 58), ('send', 58), ('virus', 58), ('laptop', 57), ('house', 57), ('loss', 57), ('side', 57), ('anil', 57), ('pettu', 56), ('wait', 56), ('vizianagaram', 56), ('create', 56), ('charging', 56), ('skin', 55), ('power', 55), ('case', 55), ('live', 55), ('vanta', 55), ('concept', 54), ('wrong', 54), ('pakistan', 54), ('level', 53), ('cool', 53), ('account', 53), ('rojulu', 53), ('captain', 53), ('nijam', 52), ('cheyocha', 52), ('update', 52), ('chicken', 52), ('bhargavi', 52), ('chudali', 51), ('prasad', 51), ('miss', 51), ('vadu', 51), ('bb', 51), ('vachindhi', 51), ('share', 51), ('unboxing', 51), ('definitely', 51), ('cream', 50), ('star', 50), ('trailer', 50), ('abhi', 50), ('loo', 50), ('dear', 50), ('battery', 50), ('samsung', 50), ('anchor', 49), ('check', 49), ('allu', 49), ('beckham', 49), ('paul', 49), ('fun', 48), ('chesthe', 48), ('suggest', 48), ('arjun', 48), ('clear', 48), ('kcr', 48), ('mobiles', 48), ('gaming', 48), ('pubg', 48), ('williamson', 48), ('unnaru', 47), ('cheyacha', 47), ('pedda', 47), ('year', 47), ('bindu', 47), ('congrats', 47), ('information', 47), ('jodi', 46), ('block', 46), ('start', 46), ('weight', 46), ('medha', 46), ('surya', 46), ('right', 46), ('google', 46), ('mexico', 46), ('way', 46), ('aadi', 45), ('vastundi', 45), ('online', 45), ('prathi', 45), ('days', 45), ('cheater', 45), ('10', 45), ('motham', 44), ('heroine', 44), ('medam', 44), ('products', 44), ('lock', 44), ('corona', 44), ('apple', 44), ('times', 44), ('normal', 44), ('place', 44), ('proud', 44), ('greatest', 44), ('moji', 44), ('anyone', 44), ('curry', 44), ('mind', 43), ('pelli', 43), ('papam', 43), ('okati', 43), ('part', 43), ('future', 43), ('came', 43), ('friend', 42), ('akhil', 42), ('respect', 42), ('nani', 42), ('hindi', 42), ('old', 42), ('open', 42), ('cheppava', 42), ('white', 42), ('remove', 42), ('ko', 42), ('champion', 42), ('chance', 41), ('chestharu', 41), ('body', 41), ('dress', 41), ('perfect', 41), ('assalu', 41), ('di', 41), ('ninnu', 41), ('style', 41), ('apps', 41), ('filmora', 41), ('continue', 41), ('party', 41), ('ardham', 40), ('bhanu', 40), ('stop', 40), ('fat', 40), ('boy', 40), ('vesukondi', 40), ('delete', 40), ('buy', 40), ('eng', 40), ('matalu', 39), ('ntr', 39), ('feeling', 39), ('ravali', 39), ('dani', 39), ('colour', 39), ('tour', 39), ('ledha', 39), ('yala', 39), ('sad', 39), ('company', 39), ('run', 39), ('test', 39), ('kohli', 39), ('pv', 39), ('kane', 39), ('ashwin', 39), ('cheyala', 38), ('sodhi', 38), ('istam', 38), ('cut', 38), ('delivery', 38), ('apply', 38), ('cost', 38), ('lekapothe', 38), ('msg', 38), ('rahul', 38), ('sound', 38), ('che', 38), ('ronaldo', 38), ('bhaiya', 38), ('favourite', 37), ('ammayi', 37), ('le', 37), ('telusu', 37), ('ardam', 37), ('ey', 37), ('box', 37), ('option', 37), ('nen', 37), ('plus', 37), ('chusa', 37), ('copy', 37), ('biryani', 37), ('lose', 37), ('wc', 37), ('title', 36), ('girl', 36), ('supper', 36), ('paina', 36), ('pandi', 36), ('channels', 36), ('tharuvatha', 36), ('america', 36), ('available', 36), ('dark', 36), ('hearts', 36), ('commentary', 36), ('whats', 36), ('orey', 36), ('funny', 35), ('ayya', 35), ('highlight', 35), ('friends', 35), ('rgv', 35), ('marriage', 35), ('ana', 35), ('ending', 35), ('valu', 35), ('emaina', 35), ('person', 35), ('kakunda', 35), ('tip', 35), ('powder', 35), ('eroju', 35), ('umpire', 35), ('deserved', 35), ('songs', 34), ('rashmi', 34), ('pakka', 34), ('kante', 34), ('chudu', 34), ('biography', 34), ('book', 34), ('sodi', 34), ('vala', 34), ('solution', 34), ('price', 34), ('content', 34), ('web', 34), ('id', 34), ('post', 34), ('belgium', 34), ('legend', 34), ('damn', 34), ('rule', 34), ('runs', 34), ('mandi', 33), ('chayandi', 33), ('close', 33), ('andhuku', 33), ('chesindi', 33), ('scene', 33), ('second', 33), ('cheyalo', 33), ('night', 33), ('vasthundhi', 33), ('nanu', 33), ('gurunchi', 33), ('late', 33), ('apudu', 33), ('message', 33), ('taste', 33), ('photo', 32), ('industry', 32), ('touching', 32), ('andariki', 32), ('birthday', 32), ('emotional', 32), ('words', 32), ('trp', 32), ('sollu', 32), ('prabhas', 32), ('chesav', 32), ('dabbulu', 32), ('anduke', 32), ('interesting', 32), ('kastam', 32), ('avunu', 32), ('neymar', 32), ('champions', 32), ('katthi', 32), ('chalu', 31), ('easy', 31), ('school', 31), ('pindi', 31), ('card', 31), ('realme', 31), ('simple', 31), ('edit', 31), ('photos', 31), ('budget', 31), ('football', 31), ('guys', 31), ('trophy', 31), ('smith', 31), ('uncut', 31), ('raithu', 31), ('sai', 30), ('chestunnaru', 30), ('chandra', 30), ('ina', 30), ('bless', 30), ('lanti', 30), ('pain', 30), ('save', 30), ('hack', 30), ('display', 30), ('different', 30), ('ikkada', 30), ('kodaka', 30), ('season', 30), ('chethi', 30), ('deserve', 30), ('okkadu', 30), ('intlo', 29), ('undha', 29), ('bore', 29), ('ariyana', 29), ('king', 29), ('dhi', 29), ('unnadu', 29), ('supar', 29), ('long', 29), ('act', 29), ('mama', 29), ('mali', 29), ('tamil', 29), ('degree', 29), ('explanation', 29), ('pro', 29), ('students', 29), ('cinima', 29), ('wifi', 29), ('ground', 29), ('another', 29), ('kottandi', 29), ('swami', 29), ('tasty', 29), ('swamy', 28), ('aadhi', 28), ('done', 28), ('thopu', 28), ('akada', 28), ('actually', 28), ('clarity', 28), ('complete', 28), ('vedios', 28), ('language', 28), ('mundhu', 28), ('mandhi', 28), ('install', 28), ('cheyyi', 28), ('chai', 28), ('giveaway', 28), ('goosebumps', 28), ('leni', 28), ('goal', 28), ('masala', 28), ('winners', 28), ('bruh', 28), ('vaishnavi', 28), ('bokka', 27), ('bale', 27), ('starting', 27), ('avaru', 27), ('meedha', 27), ('half', 27), ('thumbnail', 27), ('connect', 27), ('cheyava', 27), ('chupinchandi', 27), ('lucky', 27), ('college', 27), ('bike', 27), ('velli', 27), ('look', 27), ('system', 27), ('week', 27), ('record', 27), ('reviews', 27), ('cm', 27), ('hard', 27), ('mr', 27), ('quality', 27), ('request', 27), ('bhaya', 27), ('b', 27), ('shanmukh', 27), ('watched', 27), ('virat', 27), ('situation', 27), ('thats', 27), ('ian', 27), ('sunny', 26), ('bagundu', 26), ('antey', 26), ('vote', 26), ('chayali', 26), ('anukunta', 26), ('raledu', 26), ('bigboss', 26), ('exercise', 26), ('car', 26), ('father', 26), ('cheppara', 26), ('films', 26), ('high', 26), ('amazon', 26), ('police', 26), ('mcm', 26), ('wonderful', 26), ('deserves', 26), ('cena', 26), ('trending', 26), ('bhi', 26), ('playing', 26), ('11', 26), ('sri', 25), ('whole', 25), ('unnai', 25), ('radu', 25), ('join', 25), ('rendu', 25), ('expressions', 25), ('doctor', 25), ('chusanu', 25), ('chesthunnaru', 25), ('thappa', 25), ('natural', 25), ('ravi', 25), ('haa', 25), ('thought', 25), ('anasuya', 25), ('tappu', 25), ('pawan', 25), ('pilla', 25), ('nanna', 25), ('move', 25), ('skip', 25), ('computer', 25), ('oneplus', 25), ('ravadam', 25), ('data', 25), ('poor', 25), ('kumar', 25), ('market', 25), ('guy', 25), ('ho', 25), ('players', 25), ('teams', 25), ('brilliant', 25), ('matches', 24), ('papa', 24), ('program', 24), ('tube', 24), ('country', 24), ('dialogue', 24), ('plan', 24), ('wash', 24), ('mottam', 24), ('hand', 24), ('brand', 24), ('honey', 24), ('problems', 24), ('kalyan', 24), ('media', 24), ('veedu', 24), ('important', 24), ('games', 24), ('coming', 24), ('ella', 24), ('low', 24), ('anu', 24), ('fellow', 24), ('years', 24), ('cristiano', 24), ('dabur', 24), ('moment', 24), ('someone', 24), ('yeast', 24), ('views', 23), ('ram', 23), ('ame', 23), ('prema', 23), ('looks', 23), ('biggest', 23), ('public', 23), ('pillalu', 23), ('ento', 23), ('rice', 23), ('original', 23), ('girls', 23), ('pettaru', 23), ('lover', 23), ('mother', 23), ('mida', 23), ('chapu', 23), ('store', 23), ('alla', 23), ('contact', 23), ('ambedkar', 23), ('vachina', 23), ('wife', 23), ('agree', 23), ('present', 23), ('cheyyalo', 23), ('shoot', 23), ('smart', 23), ('chesthara', 23), ('recording', 23), ('facebook', 23), ('put', 23), ('simply', 23), ('ap', 23), ('boring', 23), ('asal', 23), ('beat', 23), ('h', 23), ('fixed', 23), ('arrest', 23), ('tied', 23), ('newzeland', 23), ('500', 23), ('vedava', 22), ('baguntundi', 22), ('enjoy', 22), ('west', 22), ('looking', 22), ('kottadam', 22), ('product', 22), ('donga', 22), ('nayana', 22), ('jio', 22), ('tech', 22), ('pichi', 22), ('earphones', 22), ('sweet', 22), ('sepu', 22), ('yenti', 22), ('trick', 22), ('anduku', 22), ('nannu', 22), ('soo', 22), ('making', 22), ('thu', 22), ('vi', 22), ('unbox', 22), ('madhi', 22), ('instagram', 22), ('china', 22), ('emina', 22), ('heat', 22), ('paytm', 22), ('seeing', 22), ('gold', 22), ('everyone', 22), ('buttler', 22), ('ore', 22), ('baabu', 21), ('talk', 21), ('loved', 21), ('chalaa', 21), ('nachindi', 21), ('actors', 21), ('cheyadaniki', 21), ('nothing', 21), ('serials', 21), ('attitude', 21), ('answer', 21), ('usa', 21), ('bluetooth', 21), ('midha', 21), ('milk', 21), ('chapandi', 21), ('coconut', 21), ('charge', 21), ('bgmi', 21), ('weds', 21), ('artham', 21), ('using', 21), ('chanel', 21), ('charger', 21), ('ninu', 21), ('rip', 21), ('farmer', 21), ('indians', 21), ('group', 21), ('v', 21), ('scenes', 21), ('finals', 21), ('batting', 21), ('hope', 21), ('gattiga', 21), ('boult', 21), ('boundary', 21), ('throw', 21), ('agony', 21), ('recipes', 21), ('alanti', 20), ('combination', 20), ('evvandi', 20), ('untadi', 20), ('blowing', 20), ('small', 20), ('direct', 20), ('top', 20), ('food', 20), ('estam', 20), ('script', 20), ('daniki', 20), ('yem', 20), ('avinash', 20), ('diet', 20), ('loki', 20), ('aunty', 20), ('gel', 20), ('chepara', 20), ('subscriber', 20), ('village', 20), ('nvu', 20), ('cheyyadam', 20), ('shot', 20), ('touch', 20), ('likes', 20), ('fair', 20), ('devudu', 20), ('l', 20), ('bjp', 20), ('ivvu', 20), ('developer', 20), ('slow', 20), ('funmoji', 20), ('jobs', 20), ('chestha', 20), ('singh', 20), ('avutundi', 20), ('reason', 20), ('australia', 20), ('charan', 20), ('finisher', 20), ('congratulation', 20), ('bronze', 20), ('umpiring', 20), ('guptill', 20), ('crispy', 20), ('gemini', 20), ('chesara', 19), ('pappu', 19), ('shiva', 19), ('kaadu', 19), ('baguntundhi', 19), ('question', 19), ('badulu', 19), ('red', 19), ('avasarama', 19), ('soda', 19), ('blue', 19), ('boys', 19), ('rply', 19), ('koda', 19), ('nuvve', 19), ('result', 19), ('veskondi', 19), ('navvi', 19), ('manchiga', 19), ('bank', 19), ('guru', 19), ('understand', 19), ('megha', 19), ('head', 19), ('kotha', 19), ('redmi', 19), ('bahubali', 19), ('bus', 19), ('annaa', 19), ('yentha', 19), ('entry', 19), ('chesta', 19), ('matter', 19), ('find', 19), ('petta', 19), ('difference', 19), ('speed', 19), ('cycle', 19), ('die', 19), ('wide', 19), ('fantastic', 19), ('talking', 19), ('soccer', 19), ('instead', 19), ('karo', 19), ('kya', 19), ('credit', 19), ('shit', 19), ('vzm', 19), ('yuganiki', 19), ('chei', 18), ('navvu', 18), ('chudaleka', 18), ('vadiki', 18), ('chanti', 18), ('punches', 18), ('skit', 18), ('yekkada', 18), ('chettha', 18), ('petandi', 18), ('line', 18), ('valaki', 18), ('bayata', 18), ('value', 18), ('heroin', 18), ('forever', 18), ('nijanga', 18), ('vundha', 18), ('alage', 18), ('fix', 18), ('oh', 18), ('baya', 18), ('size', 18), ('kajal', 18), ('bava', 18), ('meaning', 18), ('left', 18), ('thappu', 18), ('mean', 18), ('chesadu', 18), ('dry', 18), ('alovera', 18), ('design', 18), ('date', 18), ('enta', 18), ('increase', 18), ('darling', 18), ('sariga', 18), ('dagara', 18), ('chitti', 18), ('chuste', 18), ('entertainment', 18), ('illu', 18), ('badha', 18), ('thalli', 18), ('kadapa', 18), ('pass', 18), ('sim', 18), ('inko', 18), ('ya', 18), ('latest', 18), ('status', 18), ('chanal', 18), ('dream', 18), ('yeppudu', 18), ('nijamga', 18), ('lone', 18), ('given', 18), ('goes', 18), ('till', 18), ('bolt', 18), ('flour', 18), ('saw', 18), ('unfair', 18), ('bat', 18), ('vantalu', 18), ('negative', 17), ('ladu', 17), ('edo', 17), ('kopam', 17), ('po', 17), ('mohan', 17), ('totally', 17), ('manasu', 17), ('sohel', 17), ('marks', 17), ('chesavu', 17), ('iddaru', 17), ('lag', 17), ('vuntundi', 17), ('avvali', 17), ('untadhi', 17), ('clean', 17), ('vaste', 17), ('devatha', 17), ('ivvandi', 17), ('plss', 17), ('breast', 17), ('front', 17), ('vadocha', 17), ('kinda', 17), ('draw', 17), ('cha', 17), ('carona', 17), ('cover', 17), ('anuja', 17), ('hate', 17), ('dandam', 17), ('brothers', 17), ('chesukovali', 17), ('unlock', 17), ('word', 17), ('total', 17), ('search', 17), ('okkasari', 17), ('mode', 17), ('description', 17), ('cheppav', 17), ('winning', 17), ('vesaru', 17), ('hahaha', 17), ('devuda', 17), ('health', 17), ('wanted', 17), ('drama', 17), ('favorite', 17), ('dad', 17), ('sports', 17), ('ganga', 17), ('gave', 17), ('dhawan', 17), ('pothe', 16), ('moham', 16), ('tappa', 16), ('gadi', 16), ('mental', 16), ('manchu', 16), ('evaraina', 16), ('spread', 16), ('nachindhi', 16), ('vadini', 16), ('lyrics', 16), ('dabbu', 16), ('votes', 16), ('confirm', 16), ('mathram', 16), ('ladhu', 16), ('decision', 16), ('anee', 16), ('main', 16)]\n"
     ]
    }
   ],
   "source": [
    "k = 1000\n",
    "top_k_words = fdist.most_common(k)\n",
    "print(top_k_words[:1000])"
   ]
  },
  {
   "cell_type": "code",
   "execution_count": 14,
   "id": "fb7c478b",
   "metadata": {
    "scrolled": false
   },
   "outputs": [
    {
     "name": "stdout",
     "output_type": "stream",
     "text": [
      "0                       [judges, cheysey, daka, programme, chuddam, manestey]\n",
      "1                  [kamma, koritala, gaadu, kavalni, chetta, cinema, teesadu]\n",
      "2     [karthika, deepam, timing, marchesthe, intlo, mandi, matches, chudachu]\n",
      "3                      [kick, veeru, yenni, chusinaa, chudali, anipisthundhi]\n",
      "4                                                   [kothi, dancer, pampandi]\n",
      "                                       ...                                   \n",
      "95                                       [aadiri, poendi, block, baster, hit]\n",
      "96             [aadollapataki, aadollu, magavalla, pataki, magavallu, veyali]\n",
      "97                                    [aadu, cheppedhe, lovada, sodhi, sodhi]\n",
      "98                     [aadu, koddo, kastho, unnode, aadu, pavement, payment]\n",
      "99                                           [aadu, nag, dharidhrapu, adhava]\n",
      "Name: telugu, Length: 100, dtype: object\n"
     ]
    },
    {
     "data": {
      "text/plain": [
       "[[],\n",
       " ['chetta', 'cinema'],\n",
       " ['intlo', 'mandi', 'matches'],\n",
       " ['chudali'],\n",
       " [],\n",
       " ['andaru', 'pothe'],\n",
       " [],\n",
       " ['love', 'bgm', 'movie', 'chepandi'],\n",
       " [],\n",
       " [],\n",
       " ['music', 'matalu'],\n",
       " ['negative', 'character', 'moham', 'moham'],\n",
       " [],\n",
       " ['ntr', 'vedava'],\n",
       " [],\n",
       " ['chei'],\n",
       " ['tappa'],\n",
       " ['phone'],\n",
       " ['photo'],\n",
       " ['navvu'],\n",
       " ['bokka', 'screen', 'time', 'bokka'],\n",
       " [],\n",
       " [],\n",
       " ['action', 'chudaleka'],\n",
       " ['alanti'],\n",
       " [],\n",
       " ['anchor', 'action'],\n",
       " ['ardham'],\n",
       " ['chayandi', 'swamy'],\n",
       " ['action'],\n",
       " ['action'],\n",
       " ['serial'],\n",
       " ['short', 'story', 'papa', 'story'],\n",
       " [],\n",
       " [],\n",
       " ['sri', 'waste'],\n",
       " ['funny'],\n",
       " ['voice', 'sri', 'sai', 'prasad', 'voice'],\n",
       " ['baguntundi', 'face'],\n",
       " ['ayya', 'baabu'],\n",
       " ['title', 'master', 'pettu'],\n",
       " ['title', 'views', 'cheyala'],\n",
       " ['unnaru'],\n",
       " ['close'],\n",
       " [],\n",
       " ['waste', 'job', 'job'],\n",
       " [],\n",
       " ['movie'],\n",
       " ['aadhi', 'combination'],\n",
       " ['aadhi'],\n",
       " ['aadhi', 'chance', 'evvandi'],\n",
       " ['aadhi', 'chalu'],\n",
       " ['aadhi', 'bhanu', 'jodi'],\n",
       " ['aadhi', 'program'],\n",
       " ['aadhi', 'chetta', 'climax'],\n",
       " ['aadhi', 'gadi', 'action'],\n",
       " ['aadhi', 'koncham', 'mental'],\n",
       " ['aadhi', 'vadiki', 'fan', 'feeling'],\n",
       " ['aadhi'],\n",
       " ['aadhi'],\n",
       " ['aadhi', 'performance', 'keka'],\n",
       " ['aadhi', 'superb', 'aadhi', 'song'],\n",
       " ['aadhi', 'awesome', 'keka', 'done', 'job'],\n",
       " ['aadi', 'chanti'],\n",
       " ['aadi', 'chanti', 'superb'],\n",
       " ['aadi'],\n",
       " ['aadi', 'miss', 'sudheer'],\n",
       " ['aadi', 'show', 'songs', 'jai', 'aadi'],\n",
       " ['aadi', 'favourite'],\n",
       " ['aadi', 'superb', 'whole', 'industry', 'aadi'],\n",
       " ['aadi', 'man', 'show', 'punches'],\n",
       " ['aadi', 'punches', 'highlight'],\n",
       " ['aadi', 'punches', 'jai', 'aadi'],\n",
       " ['aadi', 'ram', 'prasad', 'combination'],\n",
       " ['aadi', 'skit', 'level'],\n",
       " ['aadi', 'sudheer', 'big', 'fan'],\n",
       " ['aadi', 'cute'],\n",
       " ['aadi', 'telangana'],\n",
       " ['aadi', 'yekkada', 'aadi', 'aadi', 'skit'],\n",
       " ['aadi'],\n",
       " ['aadi', 'untadi'],\n",
       " ['aadi'],\n",
       " ['aadi', 'gadi', 'chettha', 'unnai'],\n",
       " ['aadi', 'skit', 'punches', 'enjoy'],\n",
       " ['aadi', 'comedy', 'radu', 'comedy', 'sudheer'],\n",
       " ['aadi', 'manchu', 'skit', 'ladu', 'promo', 'ladu'],\n",
       " ['aadi', 'punches', 'time', 'petandi', 'evaraina'],\n",
       " ['aadi', 'love', 'story', 'keka', 'bayya'],\n",
       " ['aadi'],\n",
       " ['aadi', 'action'],\n",
       " ['aadi', 'nuv', 'edo', 'face', 'stop'],\n",
       " ['aadi', 'punches', 'ram', 'prasad', 'punches', 'punches'],\n",
       " ['aadi', 'ram', 'prasad', 'show'],\n",
       " ['aadi'],\n",
       " [],\n",
       " ['block', 'hit'],\n",
       " [],\n",
       " ['sodhi', 'sodhi'],\n",
       " [],\n",
       " []]"
      ]
     },
     "execution_count": 14,
     "metadata": {},
     "output_type": "execute_result"
    }
   ],
   "source": [
    "top_k_words,_ = zip(*fdist.most_common(k))\n",
    "top_k_words = set(top_k_words)\n",
    "def keep_top_k_words(text):\n",
    "    return [word for word in text if word in top_k_words]\n",
    "\n",
    "top_k_words_sentences= []\n",
    "for text in data['telugu']:\n",
    "    top_k_words_sentences.append(keep_top_k_words(text))\n",
    "print(data['telugu'][:100])\n",
    "top_k_words_sentences[:100]"
   ]
  },
  {
   "cell_type": "code",
   "execution_count": 15,
   "id": "638a165c",
   "metadata": {},
   "outputs": [
    {
     "name": "stdout",
     "output_type": "stream",
     "text": [
      "Total docs before processing:  23857\n",
      "Total docs after processing:  507\n"
     ]
    }
   ],
   "source": [
    "final_data = []\n",
    "\n",
    "new2oldindex_map = {}\n",
    "\n",
    "old_index = 0\n",
    "new_index = 0\n",
    "# for text  in top_k_words_sentences:\n",
    "#     string=text.split()\n",
    "#     for word in string:\n",
    "#         if len(string)<=1:\n",
    "#             text.replace(word,\"\")\n",
    "\n",
    "for text in top_k_words_sentences:\n",
    "    if(len(text) >=6):\n",
    "        new2oldindex_map[new_index] = old_index\n",
    "        final_data.append(text)\n",
    "        new_index += 1\n",
    "        \n",
    "    old_index += 1\n",
    "texts=final_data\n",
    "print(\"Total docs before processing: \", len(top_k_words_sentences))\n",
    "print(\"Total docs after processing: \", len(final_data))"
   ]
  },
  {
   "cell_type": "code",
   "execution_count": 16,
   "id": "128335a7",
   "metadata": {},
   "outputs": [],
   "source": [
    "import gensim.corpora as corpora\n",
    "\n",
    "id2word = corpora.Dictionary(final_data)\n",
    "\n",
    "corpus = []\n",
    "for text in final_data:\n",
    "    new = id2word.doc2bow(text)\n",
    "    corpus.append(new)\n"
   ]
  },
  {
   "cell_type": "code",
   "execution_count": 17,
   "id": "28c0d580",
   "metadata": {
    "scrolled": false
   },
   "outputs": [
    {
     "data": {
      "text/plain": [
       "[[(0, 1), (1, 2), (2, 1), (3, 1), (4, 1)],\n",
       " [(0, 1), (5, 1), (6, 3), (7, 1)],\n",
       " [(8, 1), (9, 1), (10, 2), (11, 1), (12, 1)],\n",
       " [(13, 1), (14, 1), (15, 1), (16, 1), (17, 2), (18, 1), (19, 1)],\n",
       " [(20, 1), (21, 1), (22, 1), (23, 1), (24, 1), (25, 1), (26, 1)],\n",
       " [(20, 1), (27, 1), (28, 1), (29, 1), (30, 1), (31, 1)],\n",
       " [(32, 1), (33, 1), (34, 1), (35, 1), (36, 1), (37, 1)],\n",
       " [(38, 1), (39, 2), (40, 1), (41, 2)],\n",
       " [(42, 1), (43, 2), (44, 1), (45, 1), (46, 1)],\n",
       " [(47, 1), (48, 1), (49, 1), (50, 2), (51, 1)]]"
      ]
     },
     "execution_count": 17,
     "metadata": {},
     "output_type": "execute_result"
    }
   ],
   "source": [
    "corpus[:10]"
   ]
  },
  {
   "cell_type": "markdown",
   "id": "9d5b01f6",
   "metadata": {},
   "source": [
    "# Model Development"
   ]
  },
  {
   "cell_type": "code",
   "execution_count": 18,
   "id": "6d357c94",
   "metadata": {},
   "outputs": [],
   "source": [
    "import gensim\n",
    "# lda_model = gensim.models.ldamodel.LdaModel(corpus=corpus,\n",
    "#                                            id2word=id2word,\n",
    "#                                            num_topics=10,\n",
    "#                                            random_state=100,\n",
    "#                                            update_every=1,\n",
    "#                                            chunksize=50,\n",
    "#                                            passes=10,\n",
    "#                                            alpha=\"auto\",\n",
    "#                                            per_word_topics = True)"
   ]
  },
  {
   "cell_type": "code",
   "execution_count": 19,
   "id": "eb56a8ee",
   "metadata": {},
   "outputs": [],
   "source": [
    "from gensim.models import CoherenceModel\n",
    "# coherence_model_lda=CoherenceModel(model=lda_model,texts=final_data,dictionary=id2word)\n",
    "# coherence_lda=coherence_model_lda.get_coherence()\n",
    "# coherence_lda"
   ]
  },
  {
   "cell_type": "code",
   "execution_count": 20,
   "id": "d7b6a0bd",
   "metadata": {},
   "outputs": [],
   "source": [
    "def compute_coherence_values(dictionary, corpus, texts, limit, start, step):\n",
    "    coherence_values = []\n",
    "    model_list = []\n",
    "    for num_topics in range(start, limit, step):\n",
    "        model = gensim.models.ldamodel.LdaModel(corpus=corpus,\n",
    "                                                   id2word=id2word,\n",
    "                                                   num_topics=num_topics,\n",
    "                                                   update_every=1,\n",
    "                                                   chunksize=50,\n",
    "                                                   passes=10,\n",
    "                                                   alpha=\"auto\",\n",
    "                                                   random_state=12                                                   \n",
    "                                               )\n",
    "\n",
    "        model_list.append(model)\n",
    "        coherencemodel = CoherenceModel(model=model,texts=texts, corpus=corpus, coherence='c_v')\n",
    "        coherence_values.append(coherencemodel.get_coherence())\n",
    "        print(num_topics,\"Topics Completed\\n\")\n",
    "    return model_list, coherence_values"
   ]
  },
  {
   "cell_type": "code",
   "execution_count": null,
   "id": "3830000a",
   "metadata": {},
   "outputs": [],
   "source": []
  },
  {
   "cell_type": "code",
   "execution_count": 21,
   "id": "308e01b3",
   "metadata": {
    "scrolled": false
   },
   "outputs": [
    {
     "name": "stdout",
     "output_type": "stream",
     "text": [
      "3 Topics Completed\n",
      "\n",
      "4 Topics Completed\n",
      "\n",
      "5 Topics Completed\n",
      "\n",
      "6 Topics Completed\n",
      "\n",
      "7 Topics Completed\n",
      "\n",
      "8 Topics Completed\n",
      "\n",
      "9 Topics Completed\n",
      "\n",
      "10 Topics Completed\n",
      "\n",
      "11 Topics Completed\n",
      "\n",
      "12 Topics Completed\n",
      "\n",
      "13 Topics Completed\n",
      "\n",
      "14 Topics Completed\n",
      "\n"
     ]
    },
    {
     "data": {
      "image/png": "[encoded data removed]",
      "text/plain": [
       "<Figure size 432x288 with 1 Axes>"
      ]
     },
     "metadata": {
      "needs_background": "light"
     },
     "output_type": "display_data"
    }
   ],
   "source": [
    "import matplotlib.pyplot as plt\n",
    "limit=15; start=3; step=1;\n",
    "model_list, coherence_values = compute_coherence_values(dictionary=id2word, corpus=corpus, texts=texts, \n",
    "                                                       limit=limit,start=start, step=step)\n",
    "\n",
    "x = range(start, limit, step)\n",
    "plt.plot(x,coherence_values)\n",
    "plt.xlabel(\"Num Topics\")\n",
    "plt.ylabel(\"Coherence score\")\n",
    "plt.legend((\"coherence_values\"), loc='best')\n",
    "plt.show()"
   ]
  },
  {
   "cell_type": "code",
   "execution_count": 22,
   "id": "8809ffdb",
   "metadata": {},
   "outputs": [
    {
     "name": "stdout",
     "output_type": "stream",
     "text": [
      "Num Topics = 3  has Coherence Value of 0.4443\n",
      "Num Topics = 4  has Coherence Value of 0.4807\n",
      "Num Topics = 5  has Coherence Value of 0.5505\n",
      "Num Topics = 6  has Coherence Value of 0.556\n",
      "Num Topics = 7  has Coherence Value of 0.5801\n",
      "Num Topics = 8  has Coherence Value of 0.5794\n",
      "Num Topics = 9  has Coherence Value of 0.5843\n",
      "Num Topics = 10  has Coherence Value of 0.5906\n",
      "Num Topics = 11  has Coherence Value of 0.5156\n",
      "Num Topics = 12  has Coherence Value of 0.5475\n",
      "Num Topics = 13  has Coherence Value of 0.5609\n",
      "Num Topics = 14  has Coherence Value of 0.5238\n"
     ]
    }
   ],
   "source": [
    "for m, cv in zip(x, coherence_values):\n",
    "    print(\"Num Topics =\", m, \" has Coherence Value of\", round(cv, 4))"
   ]
  },
  {
   "cell_type": "code",
   "execution_count": 23,
   "id": "7fd235a0",
   "metadata": {
    "scrolled": true
   },
   "outputs": [
    {
     "name": "stdout",
     "output_type": "stream",
     "text": [
      "[(0, '0.129*\"jai\" + 0.058*\"movie\" + 0.056*\"love\" + 0.041*\"win\" + 0.033*\"india\" + 0.032*\"content\" + 0.022*\"england\" + 0.021*\"heart\" + 0.020*\"story\" + 0.019*\"acting\"'), (1, '0.081*\"media\" + 0.074*\"world\" + 0.066*\"cup\" + 0.064*\"power\" + 0.041*\"kcr\" + 0.034*\"zealand\" + 0.030*\"cricket\" + 0.029*\"mr\" + 0.020*\"answer\" + 0.020*\"bjp\"'), (2, '0.046*\"class\" + 0.045*\"madhu\" + 0.044*\"middle\" + 0.041*\"film\" + 0.036*\"match\" + 0.030*\"short\" + 0.021*\"ever\" + 0.019*\"stokes\" + 0.018*\"real\" + 0.016*\"mahesh\"'), (3, '0.054*\"beat\" + 0.045*\"england\" + 0.039*\"fan\" + 0.037*\"shannu\" + 0.034*\"nz\" + 0.028*\"time\" + 0.022*\"big\" + 0.021*\"movie\" + 0.020*\"icc\" + 0.020*\"episode\"'), (4, '0.065*\"dhoni\" + 0.049*\"yentha\" + 0.024*\"latest\" + 0.023*\"chudandi\" + 0.023*\"loss\" + 0.021*\"petta\" + 0.021*\"tips\" + 0.019*\"waiting\" + 0.017*\"puri\" + 0.015*\"perfect\"'), (5, '0.145*\"telangana\" + 0.114*\"support\" + 0.040*\"trs\" + 0.040*\"party\" + 0.040*\"talk\" + 0.029*\"arey\" + 0.026*\"ina\" + 0.022*\"anil\" + 0.022*\"chestharu\" + 0.022*\"spread\"')]\n"
     ]
    }
   ],
   "source": [
    "# Select the optimal model and check the topics (if required)\n",
    "optimal_model = model_list[3]\n",
    "#model_topics = optimal_model.show_topics(formatted=False)\n",
    "print(optimal_model.print_topics())"
   ]
  },
  {
   "cell_type": "code",
   "execution_count": 24,
   "id": "df931602",
   "metadata": {},
   "outputs": [
    {
     "name": "stdout",
     "output_type": "stream",
     "text": [
      "[(216, 1), (269, 1), (333, 1), (335, 1), (338, 1), (347, 1)]\n",
      "[(0, 0.85895336), (3, 0.036947373), (1, 0.035595667), (2, 0.028720148), (5, 0.023938747), (4, 0.015844759)]\n"
     ]
    }
   ],
   "source": [
    "test_doc = corpus[100]\n",
    "print(corpus[100])\n",
    "vector=sorted(optimal_model.get_document_topics(test_doc),key=lambda x: x[1],reverse=True)\n",
    "print(vector)"
   ]
  },
  {
   "cell_type": "markdown",
   "id": "dcfa0281",
   "metadata": {},
   "source": [
    "# Visualization"
   ]
  },
  {
   "cell_type": "code",
   "execution_count": 25,
   "id": "8b002b16",
   "metadata": {},
   "outputs": [],
   "source": [
    "import pyLDAvis\n",
    "import pyLDAvis.gensim_models"
   ]
  },
  {
   "cell_type": "code",
   "execution_count": 26,
   "id": "d8abc459",
   "metadata": {
    "scrolled": false
   },
   "outputs": [
    {
     "name": "stderr",
     "output_type": "stream",
     "text": [
      "E:\\anaconda\\lib\\site-packages\\pyLDAvis\\_prepare.py:246: FutureWarning: In a future version of pandas all arguments of DataFrame.drop except for the argument 'labels' will be keyword-only\n",
      "  default_term_info = default_term_info.sort_values(\n"
     ]
    },
    {
     "data": {
      "text/html": [
       "\n",
       "<link rel=\"stylesheet\" type=\"text/css\" href=\"https://cdn.jsdelivr.net/gh/bmabey/pyLDAvis@3.3.1/pyLDAvis/js/ldavis.v1.0.0.css\">\n",
       "\n",
       "\n",
       "<div id=\"ldavis_el796424351737644483420542492\"></div>\n",
       "<script type=\"text/javascript\">\n",
       "\n",
       "var ldavis_el796424351737644483420542492_data = {\"mdsDat\": {\"x\": [-0.06101002278744895, -0.10490874448612332, -0.31859744930196154, 0.22240536849382997, 0.3133669328097581, -0.05125608472805414], \"y\": [0.2962579849908298, -0.33785396011533814, 0.07424144824696675, 0.19519952703247526, -0.1648929677775512, -0.06295203237738249], \"topics\": [1, 2, 3, 4, 5, 6], \"cluster\": [1, 1, 1, 1, 1, 1], \"Freq\": [20.940188820342357, 20.897593470736005, 18.200924351264007, 17.098495815356674, 11.612051598032485, 11.250745944268472]}, \"tinfo\": {\"Term\": [\"jai\", \"telangana\", \"support\", \"media\", \"world\", \"cup\", \"power\", \"beat\", \"love\", \"dhoni\", \"movie\", \"class\", \"madhu\", \"middle\", \"england\", \"film\", \"yentha\", \"win\", \"kcr\", \"shannu\", \"fan\", \"zealand\", \"nz\", \"party\", \"trs\", \"talk\", \"match\", \"india\", \"content\", \"cricket\", \"beat\", \"shannu\", \"nz\", \"time\", \"big\", \"episode\", \"back\", \"life\", \"help\", \"another\", \"ashwin\", \"web\", \"ntr\", \"virus\", \"song\", \"run\", \"people\", \"came\", \"eng\", \"fan\", \"lucky\", \"cheating\", \"hit\", \"champions\", \"champion\", \"throw\", \"end\", \"umpire\", \"scene\", \"teams\", \"rules\", \"england\", \"10\", \"series\", \"icc\", \"final\", \"movie\", \"match\", \"media\", \"world\", \"cup\", \"power\", \"zealand\", \"cricket\", \"mr\", \"answer\", \"bjp\", \"vachina\", \"history\", \"winner\", \"fans\", \"phone\", \"williamson\", \"old\", \"game\", \"voice\", \"happy\", \"deserve\", \"captain\", \"account\", \"sad\", \"country\", \"sindhu\", \"deserved\", \"annayya\", \"photos\", \"google\", \"pv\", \"kcr\", \"lost\", \"kane\", \"icc\", \"final\", \"class\", \"madhu\", \"middle\", \"film\", \"short\", \"ever\", \"stokes\", \"real\", \"mahesh\", \"ben\", \"greatest\", \"respect\", \"ball\", \"runs\", \"hearts\", \"watching\", \"movies\", \"ikkada\", \"brazil\", \"thought\", \"belgium\", \"music\", \"kottandi\", \"awesome\", \"wc\", \"excellent\", \"hard\", \"bhayya\", \"bayya\", \"episodes\", \"match\", \"played\", \"jai\", \"love\", \"win\", \"india\", \"content\", \"heart\", \"story\", \"acting\", \"newzealand\", \"team\", \"emotional\", \"loved\", \"play\", \"years\", \"release\", \"favourite\", \"today\", \"touch\", \"chance\", \"kohli\", \"chesavu\", \"fast\", \"thopu\", \"virat\", \"heroine\", \"bhai\", \"congratulations\", \"allu\", \"arjun\", \"upload\", \"movie\", \"england\", \"hero\", \"telangana\", \"support\", \"party\", \"trs\", \"talk\", \"arey\", \"ina\", \"anil\", \"chestharu\", \"spread\", \"superb\", \"guru\", \"vote\", \"cm\", \"show\", \"app\", \"free\", \"fire\", \"screen\", \"watch\", \"whats\", \"worst\", \"chesthe\", \"abba\", \"software\", \"feeling\", \"vaishnavi\", \"okkadu\", \"health\", \"laptop\", \"kcr\", \"dhoni\", \"yentha\", \"latest\", \"chudandi\", \"loss\", \"petta\", \"tips\", \"waiting\", \"puri\", \"crispy\", \"god\", \"family\", \"chusa\", \"continue\", \"days\", \"mother\", \"ravali\", \"shanmukh\", \"weight\", \"v\", \"flour\", \"mottam\", \"wow\", \"katthi\", \"lone\", \"ivvandi\", \"message\", \"supar\", \"curry\", \"vadu\", \"perfect\", \"fan\"], \"Freq\": [74.0, 57.0, 45.0, 57.0, 52.0, 46.0, 45.0, 38.0, 32.0, 25.0, 48.0, 28.0, 27.0, 27.0, 44.0, 25.0, 19.0, 24.0, 37.0, 26.0, 30.0, 24.0, 24.0, 16.0, 16.0, 16.0, 32.0, 19.0, 19.0, 21.0, 38.087369074398474, 26.104476329331906, 23.651693064897565, 19.455727263011763, 15.554346701620945, 13.776507308461705, 10.823665572060749, 9.823996443641699, 8.913497677951359, 8.811481632127812, 8.608021931320954, 8.681070279879647, 8.470075738825448, 7.994478615618642, 6.94937162051139, 6.5372902107818245, 6.392778898603357, 6.0960214578177885, 5.868306941028524, 27.19119541729833, 5.505596044332752, 5.223540459000201, 5.076689097670782, 5.090799220325049, 4.81759995718541, 4.797638400334537, 4.70694952994721, 4.411495540467917, 4.258840280263676, 4.22438471205641, 7.937792252647517, 31.39798878199692, 9.326032804131598, 13.273418377773964, 13.791334394900387, 11.388661883200433, 14.443627849260718, 9.879522944761314, 57.10089124830303, 51.70013757411767, 46.0402184954613, 44.95106423617078, 24.22544299741769, 20.848786312511894, 20.128266181606744, 14.377190343814659, 14.377190343814659, 14.377190343814659, 11.24953345611906, 10.283673172790639, 8.43340244046814, 7.761651182243853, 7.056483500048819, 6.653529977943738, 5.939899244492826, 5.491340515457781, 5.15652816594134, 5.020255962815588, 4.819015740577721, 4.895062478751139, 4.630509681940928, 4.395911925063766, 4.129303236259897, 3.9621566653045037, 3.9123945258997757, 3.9039118448667467, 3.8579827466137844, 3.7568347580709545, 28.696695315840376, 5.436289459762558, 5.370897437463973, 8.735410487898003, 8.072011699851641, 28.089467756558122, 27.287860027831083, 26.767700613720887, 24.868183220263973, 18.19520862975381, 12.634210876713398, 11.327213011494313, 10.972338887845302, 9.752648220152864, 9.425764259731798, 8.402531313293691, 8.137396679071092, 8.036550597134257, 7.851308887332419, 7.6241967655888025, 7.249602727083299, 6.508338975017514, 6.26229110750224, 6.029922887307003, 6.011535945916665, 6.015408920553683, 5.823694396460019, 5.802293305149848, 5.588728046280944, 5.613680694085802, 5.621333751237143, 5.507654879000667, 5.503119121917674, 5.1599300294572155, 5.248384416204628, 21.966251543768728, 5.441187430815759, 73.88218233489468, 32.128841119760246, 23.434952668579704, 18.81669363488269, 18.412973808302148, 11.924349472035628, 11.770818670027639, 10.987860512797925, 10.848087703320644, 10.471529445463466, 10.446996553809361, 5.795241428561396, 5.73352587299404, 4.956874934614207, 4.843537193904488, 4.830529257702502, 4.771657063421262, 4.748547726212607, 4.535844921540734, 4.472446959111843, 3.7657397102866192, 3.7495832506947555, 3.6876235654443894, 3.612391470168777, 3.552576753284598, 3.6232394475854424, 3.5453430729951334, 3.245482491569798, 3.245482491569798, 3.2283074865351113, 33.27075985353014, 12.786432415166326, 3.525309180883087, 56.44241013025476, 44.49762508182581, 15.695177371646878, 15.695177371646878, 15.693849556666814, 11.280359085187701, 10.094882089695961, 8.734406933283028, 8.732909687366297, 8.732909687366297, 8.426594551642422, 8.394740808377543, 7.885014743541891, 7.878110251079843, 4.900197198412858, 4.217161101065771, 4.110948264574547, 3.261433910037873, 3.0207614457373464, 2.742808176205918, 2.6130008092338, 2.362115949763499, 2.209835532405232, 2.1416204921472874, 2.168267324588102, 2.0672297669649553, 1.9466871090329476, 1.9035651177225807, 1.855049514330684, 1.8554456409519269, 7.835255131674012, 24.59951369988768, 18.390793733987962, 9.103046429337772, 8.812852521394861, 8.72884319995504, 7.82342873807932, 7.823428033533648, 7.328734812336198, 6.543797660453092, 5.2641507305492325, 5.165708791008835, 5.142461954272804, 5.0102363451917284, 5.048070447803444, 4.705202239476716, 4.661332294088938, 4.345278741783635, 4.341123331407399, 4.124291298429084, 4.119903387980932, 3.9788617989002217, 3.7716633711744447, 3.6929599831940068, 3.4270584577650745, 3.0698425290913014, 3.0651914708344816, 2.790566260889008, 2.766338696576897, 2.7046713990932356, 2.7005369489507554, 5.577029600054378, 2.7366489658025324], \"Total\": [74.0, 57.0, 45.0, 57.0, 52.0, 46.0, 45.0, 38.0, 32.0, 25.0, 48.0, 28.0, 27.0, 27.0, 44.0, 25.0, 19.0, 24.0, 37.0, 26.0, 30.0, 24.0, 24.0, 16.0, 16.0, 16.0, 32.0, 19.0, 19.0, 21.0, 38.80347000376923, 26.782070070077758, 24.324162059826115, 20.12789857560969, 16.226827794218284, 14.45582299164789, 11.498014776729097, 10.503831459747039, 9.58762558073615, 9.484025141582586, 9.284562024902426, 9.370016085051812, 9.148337397432377, 8.665705237381252, 7.62000463886804, 7.211465679570746, 7.072787407329717, 6.768492568123454, 6.540265549553545, 30.456847825138617, 6.184480078509141, 5.898039002508664, 5.748490391402287, 5.764767542559754, 5.4900576314453255, 5.471448139002429, 5.382495069870385, 5.0832953001660375, 4.929780684154366, 4.895383021898664, 9.599346504269667, 44.709493745323094, 12.08516434027682, 19.07971866394107, 23.06039759551437, 19.998784063610554, 48.236640993943396, 32.359185370235025, 57.79814880492592, 52.39934771358368, 46.739581282417774, 45.65118120434938, 24.925163721796906, 21.548705451364025, 20.83639124420281, 15.074515944430905, 15.074515944430905, 15.074515944430905, 11.948847352216625, 10.98543916161681, 9.141245729058102, 8.463445007276654, 7.757952120140363, 7.368070409105027, 6.639083629290356, 6.20346587885237, 5.862033181197668, 5.7215626864390146, 5.518436623336516, 5.630853119715541, 5.3331556294599105, 5.096038108937654, 4.83603328827824, 4.66096462518448, 4.613395854434693, 4.604413688172978, 4.55834239569809, 4.455756966409528, 37.16703971856342, 7.775685963400995, 7.718301364878877, 23.06039759551437, 19.998784063610554, 28.76740450088922, 27.965221586659187, 27.445941914318865, 25.546598235706107, 18.87294120166168, 13.312154833768567, 12.00462811419981, 11.655751041496414, 10.434560093374818, 10.103063484115346, 9.080750847024289, 8.815261171307423, 8.715429673995626, 8.530259367209123, 8.306139762991368, 7.9302166367701545, 7.192767452474762, 6.943508192575736, 6.709870694486026, 6.693268705592825, 6.708239222923961, 6.499910872368857, 6.485297324332078, 6.265387338630581, 6.2950005554172535, 6.306469625434367, 6.185900264058326, 6.18750417552138, 5.838728985680822, 5.946689401387212, 32.359185370235025, 9.492966554927623, 74.57380911100562, 32.81540047753333, 24.122969936080743, 19.503779423472782, 19.139844269701904, 12.61041075658771, 12.458153302849169, 11.676380660436111, 11.53515239373494, 11.158416732319093, 11.137966881835707, 6.484971943390995, 6.421695426090909, 5.64777671907035, 5.529991389477648, 5.516538499513941, 5.457416511180803, 5.433661158588256, 5.222958976731602, 5.160170142854245, 4.452903747711479, 4.436059237936144, 4.376395328180299, 4.296584091589668, 4.236919538491062, 4.3214396109262845, 4.23229323150407, 3.9320853365432553, 3.9320853365432553, 3.9171687616896698, 48.236640993943396, 44.709493745323094, 9.38650952714279, 57.20581494322379, 45.25930210178503, 16.454601613186316, 16.454601613186316, 16.455926744158756, 12.046210577005839, 10.857530959281405, 9.494333589258027, 9.495589793757762, 9.495589793757762, 9.194125722122399, 9.159951763758611, 8.644458717264747, 8.65072170812257, 5.664566719408832, 4.9820227786757485, 4.872757269540459, 4.023566093045605, 3.7898727773047587, 3.5065830386534977, 3.3910362461857284, 3.126349351405489, 2.9718814603423724, 2.9017848450674055, 2.943549695017463, 2.8311182406304307, 2.7119085628447657, 2.67054346982323, 2.6194412454189266, 2.624942176006388, 37.16703971856342, 25.288818733803268, 19.106022950625153, 9.791465065060933, 9.506134887347741, 9.41968538055953, 8.511851266410535, 8.511850561864863, 8.032523289968195, 7.232225854801582, 5.9525873581956565, 5.854836266561476, 5.839999625737089, 5.701166537265903, 5.747999049808659, 5.398760022575245, 5.356309487677249, 5.039381016318955, 5.04065359962066, 4.814521952754156, 4.810291572085221, 4.673006741811383, 4.462650807349744, 4.387864038790433, 4.128212993985235, 3.7608869135307894, 3.761425933823677, 3.4866912152013017, 3.468311896049218, 3.3931579783028143, 3.392943393452546, 7.38075169143574, 30.456847825138617], \"Category\": [\"Default\", \"Default\", \"Default\", \"Default\", \"Default\", \"Default\", \"Default\", \"Default\", \"Default\", \"Default\", \"Default\", \"Default\", \"Default\", \"Default\", \"Default\", \"Default\", \"Default\", \"Default\", \"Default\", \"Default\", \"Default\", \"Default\", \"Default\", \"Default\", \"Default\", \"Default\", \"Default\", \"Default\", \"Default\", \"Default\", \"Topic1\", \"Topic1\", \"Topic1\", \"Topic1\", \"Topic1\", \"Topic1\", \"Topic1\", \"Topic1\", \"Topic1\", \"Topic1\", \"Topic1\", \"Topic1\", \"Topic1\", \"Topic1\", \"Topic1\", \"Topic1\", \"Topic1\", \"Topic1\", \"Topic1\", \"Topic1\", \"Topic1\", \"Topic1\", \"Topic1\", \"Topic1\", \"Topic1\", \"Topic1\", \"Topic1\", \"Topic1\", \"Topic1\", \"Topic1\", \"Topic1\", \"Topic1\", \"Topic1\", \"Topic1\", \"Topic1\", \"Topic1\", \"Topic1\", \"Topic1\", \"Topic2\", \"Topic2\", \"Topic2\", \"Topic2\", \"Topic2\", \"Topic2\", \"Topic2\", \"Topic2\", \"Topic2\", \"Topic2\", \"Topic2\", \"Topic2\", \"Topic2\", \"Topic2\", \"Topic2\", \"Topic2\", \"Topic2\", \"Topic2\", \"Topic2\", \"Topic2\", \"Topic2\", \"Topic2\", \"Topic2\", \"Topic2\", \"Topic2\", \"Topic2\", \"Topic2\", \"Topic2\", \"Topic2\", \"Topic2\", \"Topic2\", \"Topic2\", \"Topic2\", \"Topic2\", \"Topic2\", \"Topic3\", \"Topic3\", \"Topic3\", \"Topic3\", \"Topic3\", \"Topic3\", \"Topic3\", \"Topic3\", \"Topic3\", \"Topic3\", \"Topic3\", \"Topic3\", \"Topic3\", \"Topic3\", \"Topic3\", \"Topic3\", \"Topic3\", \"Topic3\", \"Topic3\", \"Topic3\", \"Topic3\", \"Topic3\", \"Topic3\", \"Topic3\", \"Topic3\", \"Topic3\", \"Topic3\", \"Topic3\", \"Topic3\", \"Topic3\", \"Topic3\", \"Topic3\", \"Topic4\", \"Topic4\", \"Topic4\", \"Topic4\", \"Topic4\", \"Topic4\", \"Topic4\", \"Topic4\", \"Topic4\", \"Topic4\", \"Topic4\", \"Topic4\", \"Topic4\", \"Topic4\", \"Topic4\", \"Topic4\", \"Topic4\", \"Topic4\", \"Topic4\", \"Topic4\", \"Topic4\", \"Topic4\", \"Topic4\", \"Topic4\", \"Topic4\", \"Topic4\", \"Topic4\", \"Topic4\", \"Topic4\", \"Topic4\", \"Topic4\", \"Topic4\", \"Topic4\", \"Topic5\", \"Topic5\", \"Topic5\", \"Topic5\", \"Topic5\", \"Topic5\", \"Topic5\", \"Topic5\", \"Topic5\", \"Topic5\", \"Topic5\", \"Topic5\", \"Topic5\", \"Topic5\", \"Topic5\", \"Topic5\", \"Topic5\", \"Topic5\", \"Topic5\", \"Topic5\", \"Topic5\", \"Topic5\", \"Topic5\", \"Topic5\", \"Topic5\", \"Topic5\", \"Topic5\", \"Topic5\", \"Topic5\", \"Topic5\", \"Topic5\", \"Topic6\", \"Topic6\", \"Topic6\", \"Topic6\", \"Topic6\", \"Topic6\", \"Topic6\", \"Topic6\", \"Topic6\", \"Topic6\", \"Topic6\", \"Topic6\", \"Topic6\", \"Topic6\", \"Topic6\", \"Topic6\", \"Topic6\", \"Topic6\", \"Topic6\", \"Topic6\", \"Topic6\", \"Topic6\", \"Topic6\", \"Topic6\", \"Topic6\", \"Topic6\", \"Topic6\", \"Topic6\", \"Topic6\", \"Topic6\", \"Topic6\", \"Topic6\"], \"logprob\": [30.0, 29.0, 28.0, 27.0, 26.0, 25.0, 24.0, 23.0, 22.0, 21.0, 20.0, 19.0, 18.0, 17.0, 16.0, 15.0, 14.0, 13.0, 12.0, 11.0, 10.0, 9.0, 8.0, 7.0, 6.0, 5.0, 4.0, 3.0, 2.0, 1.0, -2.9169, -3.2947, -3.3934, -3.5886, -3.8125, -3.9338, -4.1751, -4.272, -4.3692, -4.3807, -4.4041, -4.3956, -4.4203, -4.478, -4.6181, -4.6793, -4.7016, -4.7492, -4.7872, -3.2539, -4.851, -4.9036, -4.9321, -4.9294, -4.9845, -4.9887, -5.0078, -5.0726, -5.1078, -5.1159, -4.4852, -3.11, -4.324, -3.971, -3.9328, -4.1242, -3.8865, -4.2663, -2.5099, -2.6093, -2.7252, -2.7492, -3.3674, -3.5175, -3.5526, -3.8891, -3.8891, -3.8891, -4.1344, -4.2242, -4.4226, -4.5056, -4.6008, -4.6596, -4.7731, -4.8516, -4.9145, -4.9413, -4.9822, -4.9665, -5.0221, -5.0741, -5.1366, -5.178, -5.1906, -5.1928, -5.2046, -5.2312, -3.198, -4.8617, -4.8738, -4.3874, -4.4664, -3.0812, -3.1102, -3.1294, -3.203, -3.5154, -3.8802, -3.9894, -4.0212, -4.1391, -4.1731, -4.2881, -4.3201, -4.3326, -4.3559, -4.3853, -4.4356, -4.5435, -4.582, -4.6199, -4.6229, -4.6223, -4.6547, -4.6583, -4.6958, -4.6914, -4.69, -4.7105, -4.7113, -4.7757, -4.7587, -3.3271, -4.7226, -2.0516, -2.8844, -3.1999, -3.4194, -3.4411, -3.8755, -3.8885, -3.9573, -3.9701, -4.0055, -4.0078, -4.5971, -4.6078, -4.7533, -4.7765, -4.7792, -4.7914, -4.7963, -4.8421, -4.8562, -5.0282, -5.0325, -5.0491, -5.0697, -5.0864, -5.0667, -5.0885, -5.1768, -5.1768, -5.1822, -2.8494, -3.8057, -5.0941, -1.9339, -2.1717, -3.2138, -3.2138, -3.2139, -3.5441, -3.6551, -3.7999, -3.8001, -3.8001, -3.8358, -3.8396, -3.9022, -3.9031, -4.3779, -4.528, -4.5535, -4.785, -4.8617, -4.9582, -5.0067, -5.1076, -5.1742, -5.2056, -5.1932, -5.241, -5.301, -5.3234, -5.3493, -5.349, -3.9085, -2.7328, -3.0237, -3.7269, -3.7593, -3.7689, -3.8784, -3.8784, -3.9438, -4.057, -4.2746, -4.2935, -4.298, -4.3241, -4.3165, -4.3869, -4.3963, -4.4665, -4.4674, -4.5187, -4.5197, -4.5546, -4.608, -4.6291, -4.7039, -4.8139, -4.8154, -4.9093, -4.918, -4.9406, -4.9421, -4.2169, -4.9288], \"loglift\": [30.0, 29.0, 28.0, 27.0, 26.0, 25.0, 24.0, 23.0, 22.0, 21.0, 20.0, 19.0, 18.0, 17.0, 16.0, 15.0, 14.0, 13.0, 12.0, 11.0, 10.0, 9.0, 8.0, 7.0, 6.0, 5.0, 4.0, 3.0, 2.0, 1.0, 1.5449, 1.5379, 1.5355, 1.5295, 1.5212, 1.5154, 1.5031, 1.4966, 1.4906, 1.4899, 1.4878, 1.4871, 1.4865, 1.4829, 1.4714, 1.4654, 1.4624, 1.4589, 1.4551, 1.4501, 1.4472, 1.4421, 1.4392, 1.4392, 1.4328, 1.4321, 1.4294, 1.4218, 1.4172, 1.4161, 1.3734, 1.2101, 1.3043, 1.2006, 1.0494, 1.0004, 0.3576, 0.3771, 1.5534, 1.5521, 1.5505, 1.5501, 1.5371, 1.5325, 1.531, 1.5182, 1.5182, 1.5182, 1.5052, 1.4995, 1.4849, 1.479, 1.4708, 1.4635, 1.4543, 1.4436, 1.4373, 1.4348, 1.43, 1.4255, 1.4243, 1.4177, 1.4076, 1.4031, 1.4007, 1.4005, 1.3987, 1.3949, 1.3069, 1.2076, 1.2029, 0.5948, 0.6583, 1.6798, 1.6792, 1.6787, 1.6768, 1.6671, 1.6514, 1.6456, 1.6433, 1.6361, 1.6343, 1.6261, 1.6237, 1.6226, 1.6208, 1.618, 1.614, 1.6037, 1.6004, 1.5969, 1.5963, 1.5947, 1.5938, 1.5924, 1.5894, 1.5891, 1.5887, 1.5876, 1.5865, 1.5801, 1.5788, 1.3163, 1.1471, 1.7569, 1.745, 1.7372, 1.7303, 1.7275, 1.7102, 1.7094, 1.7054, 1.7048, 1.7026, 1.7021, 1.6537, 1.6528, 1.6357, 1.6336, 1.6334, 1.6319, 1.6314, 1.6251, 1.6231, 1.5986, 1.5981, 1.5949, 1.5927, 1.59, 1.59, 1.5891, 1.5743, 1.5743, 1.5728, 1.3947, 0.5144, 0.7869, 2.1397, 2.1362, 2.1059, 2.1059, 2.1057, 2.0874, 2.0803, 2.0697, 2.0694, 2.0694, 2.066, 2.0659, 2.0612, 2.0596, 2.0082, 1.9865, 1.9831, 1.9431, 1.9263, 1.9075, 1.8925, 1.8728, 1.8568, 1.8494, 1.8474, 1.8387, 1.8216, 1.8146, 1.8081, 1.8062, 0.5963, 2.1571, 2.1466, 2.1118, 2.109, 2.1086, 2.1004, 2.1004, 2.093, 2.0847, 2.0618, 2.0595, 2.0575, 2.0555, 2.0549, 2.0472, 2.0458, 2.0365, 2.0353, 2.03, 2.0298, 2.0239, 2.0165, 2.0123, 1.9986, 1.9817, 1.98, 1.962, 1.9586, 1.958, 1.9565, 1.9045, -0.2248]}, \"token.table\": {\"Topic\": [1, 2, 5, 2, 4, 4, 5, 2, 1, 2, 5, 5, 4, 1, 3, 1, 3, 3, 1, 3, 3, 4, 3, 1, 2, 3, 1, 2, 1, 1, 4, 1, 4, 5, 5, 6, 6, 3, 5, 4, 4, 6, 2, 2, 6, 2, 6, 6, 2, 2, 6, 4, 1, 1, 1, 4, 1, 3, 3, 3, 6, 1, 6, 2, 4, 4, 5, 3, 1, 2, 5, 6, 5, 2, 6, 2, 3, 5, 2, 3, 5, 4, 3, 1, 3, 4, 4, 2, 1, 1, 2, 3, 5, 4, 6, 4, 1, 2, 6, 2, 5, 4, 3, 5, 6, 1, 6, 6, 2, 4, 4, 4, 1, 3, 3, 1, 3, 2, 6, 3, 6, 6, 1, 4, 3, 2, 3, 4, 1, 1, 5, 2, 5, 1, 2, 6, 6, 2, 2, 4, 1, 3, 2, 6, 2, 6, 3, 4, 3, 1, 3, 1, 3, 2, 1, 5, 1, 3, 6, 1, 3, 5, 2, 5, 1, 5, 3, 4, 6, 5, 5, 5, 4, 1, 5, 4, 3, 1, 1, 6, 4, 4, 5, 1, 4, 6, 2, 6, 5, 4, 1, 2, 5, 6, 5, 3, 3, 1, 6, 5, 2, 4, 2, 2, 5, 6, 4, 6, 2], \"Freq\": [0.7447147383842566, 0.16549216408539036, 0.6892309756871523, 0.8879649128998396, 0.9420727466750087, 0.7629539400173184, 0.9479338297300487, 0.8670402727645715, 0.9489641650716019, 0.9287197049383286, 0.8028867345049, 0.9131502334017906, 0.7629539400173184, 0.9693510556406223, 0.9576423093598254, 0.9566868901806396, 0.9179122888077147, 0.8563507592598045, 0.9792938620259688, 0.8944224856347243, 0.8908189099425486, 0.9256174701334343, 0.9696963153151197, 0.9860214333266601, 0.9287197049383286, 0.8942050112725158, 0.8864603070198072, 0.9060537143537832, 0.9107372518935996, 0.8673376615945608, 0.9573117503459458, 0.8477393923426594, 0.8982902453383944, 0.9478084242767569, 0.672974352001776, 0.9467570265575145, 0.877013496679548, 0.9733238185994326, 0.9247783329439928, 0.9451140980083939, 0.9404465233028954, 0.8698679238936968, 0.78492348653842, 0.9745365004592751, 0.8399708730214412, 0.9841765531028412, 0.8841321327162422, 0.9261385909157278, 0.8738871308446503, 0.8581914521270757, 0.9885791923757511, 0.8978299276781336, 0.9289372187238073, 0.9173939428819637, 0.6933650418093317, 0.290765985274881, 0.9684678629565919, 0.840803960407555, 0.9765511415945425, 0.9514039322098125, 0.8561644384298963, 0.8865001445656702, 0.09850001606285223, 0.875154244521584, 0.9017012139497447, 0.9063654682081068, 0.7064346417246925, 0.9786038739614993, 0.5500334402837727, 0.4000243202063801, 0.7456072376157179, 0.855979933478438, 0.8208904689351031, 0.9037391807401186, 0.8539948467143867, 0.877511966581312, 0.8809844180034468, 0.8733670445353254, 0.8529463831827806, 0.9699477430733157, 0.7635216111442654, 0.9515946967652239, 0.9631429554851224, 0.9387099990724678, 0.5326793719797115, 0.4261434975837692, 0.9440821246807443, 0.9205908884558137, 0.869793573540322, 0.6071014145360283, 0.39027948077316105, 0.864116500419115, 0.9210197085785552, 0.9741701640213135, 0.7975698718465394, 0.9923054874379357, 0.25912437276688094, 0.6478109319172024, 0.7267066898851803, 0.7802612266027655, 0.21524447630421117, 0.7751682385006553, 0.9251696105726257, 0.7619215456558434, 0.919167861009367, 0.9520335544531697, 0.7976841816771207, 0.9554459237645365, 0.6430300842310583, 0.25721203369242335, 0.9751518961930212, 0.9252160305974426, 0.9701704789784669, 0.9654849297843703, 0.9583537696380001, 0.30903126532963676, 0.6798687837252009, 0.9861907548696802, 0.8604145921842973, 0.9837519908877235, 0.9334785474033984, 0.8963282525740568, 0.2902357981717227, 0.684127238547632, 0.9731998213832929, 0.9598591121466143, 0.9230895804288671, 0.9536068206584253, 0.8744758366963297, 0.9866732486394052, 0.7489112319644754, 0.9500452101203882, 0.9723723719435413, 0.8483218361380467, 0.1354875549004515, 0.8129253294027089, 0.9398660467164879, 0.9452415645309686, 0.8687316715860064, 0.9343326959454369, 0.4213645941819603, 0.5267057427274504, 0.9857357205844361, 0.9678901268483749, 0.8977150302753656, 0.7937482772282662, 0.9437401297297934, 0.9041605398362637, 0.9075170711945556, 0.8333900642550722, 0.10417375803188403, 0.9706764631536965, 0.9378378377042702, 0.9375312380498355, 0.8113951220704544, 0.7915833000952365, 0.6813517656614516, 0.2620583714082506, 0.7935478844055114, 0.9707987445320172, 0.9537464143858605, 0.8826800438007397, 0.8271241659347861, 0.67945175289053, 0.9186346113615828, 0.9478084242767569, 0.9163132664633339, 0.9632246215220044, 0.8649741113010408, 0.8701207968856507, 0.9721758391467692, 0.9722940706259164, 0.8961844892417514, 0.8170964319046496, 0.9789214620153467, 0.9139942121415242, 0.8964229980766293, 0.9138348519395114, 0.9439634211503609, 0.939866124511387, 0.916184423482489, 0.920189878254954, 0.9723723719435413, 0.7868911333695972, 0.7658592678825384, 0.8315504247627205, 0.9287197049383286, 0.8841880491696916, 0.737487991815631, 0.9309721198823467, 0.9231793351902163, 0.8060010480665352, 0.9254483434598824, 0.8714571682278579, 0.8555337110031702, 0.8826997193926576, 0.9531373265466376, 0.9605106243475817, 0.8308197655453192, 0.8846853239550093, 0.9022999744774592, 0.9534481061388251, 0.9102958791979896, 0.9923787655570346, 0.6397237721052752, 0.9116052741467003, 0.8853041203128552, 0.9421112937274597, 0.9628823412306072], \"Term\": [\"10\", \"10\", \"abba\", \"account\", \"acting\", \"allu\", \"anil\", \"annayya\", \"another\", \"answer\", \"app\", \"arey\", \"arjun\", \"ashwin\", \"awesome\", \"back\", \"ball\", \"bayya\", \"beat\", \"belgium\", \"ben\", \"bhai\", \"bhayya\", \"big\", \"bjp\", \"brazil\", \"came\", \"captain\", \"champion\", \"champions\", \"chance\", \"cheating\", \"chesavu\", \"chestharu\", \"chesthe\", \"chudandi\", \"chusa\", \"class\", \"cm\", \"congratulations\", \"content\", \"continue\", \"country\", \"cricket\", \"crispy\", \"cup\", \"curry\", \"days\", \"deserve\", \"deserved\", \"dhoni\", \"emotional\", \"end\", \"eng\", \"england\", \"england\", \"episode\", \"episodes\", \"ever\", \"excellent\", \"family\", \"fan\", \"fan\", \"fans\", \"fast\", \"favourite\", \"feeling\", \"film\", \"final\", \"final\", \"fire\", \"flour\", \"free\", \"game\", \"god\", \"google\", \"greatest\", \"guru\", \"happy\", \"hard\", \"health\", \"heart\", \"hearts\", \"help\", \"hero\", \"hero\", \"heroine\", \"history\", \"hit\", \"icc\", \"icc\", \"ikkada\", \"ina\", \"india\", \"ivvandi\", \"jai\", \"kane\", \"kane\", \"katthi\", \"kcr\", \"kcr\", \"kohli\", \"kottandi\", \"laptop\", \"latest\", \"life\", \"lone\", \"loss\", \"lost\", \"lost\", \"love\", \"loved\", \"lucky\", \"madhu\", \"mahesh\", \"match\", \"match\", \"media\", \"message\", \"middle\", \"mother\", \"mottam\", \"movie\", \"movie\", \"movies\", \"mr\", \"music\", \"newzealand\", \"ntr\", \"nz\", \"okkadu\", \"old\", \"party\", \"people\", \"perfect\", \"perfect\", \"petta\", \"phone\", \"photos\", \"play\", \"played\", \"played\", \"power\", \"puri\", \"pv\", \"ravali\", \"real\", \"release\", \"respect\", \"rules\", \"rules\", \"run\", \"runs\", \"sad\", \"scene\", \"screen\", \"series\", \"series\", \"shanmukh\", \"shannu\", \"short\", \"show\", \"sindhu\", \"software\", \"song\", \"spread\", \"stokes\", \"story\", \"supar\", \"superb\", \"support\", \"talk\", \"team\", \"teams\", \"telangana\", \"thopu\", \"thought\", \"throw\", \"time\", \"tips\", \"today\", \"touch\", \"trs\", \"umpire\", \"upload\", \"v\", \"vachina\", \"vadu\", \"vaishnavi\", \"virat\", \"virus\", \"voice\", \"vote\", \"waiting\", \"watch\", \"watching\", \"wc\", \"web\", \"weight\", \"whats\", \"williamson\", \"win\", \"winner\", \"world\", \"worst\", \"wow\", \"years\", \"yentha\", \"zealand\"]}, \"R\": 30, \"lambda.step\": 0.01, \"plot.opts\": {\"xlab\": \"PC1\", \"ylab\": \"PC2\"}, \"topic.order\": [4, 2, 3, 1, 6, 5]};\n",
       "\n",
       "function LDAvis_load_lib(url, callback){\n",
       "  var s = document.createElement('script');\n",
       "  s.src = url;\n",
       "  s.async = true;\n",
       "  s.onreadystatechange = s.onload = callback;\n",
       "  s.onerror = function(){console.warn(\"failed to load library \" + url);};\n",
       "  document.getElementsByTagName(\"head\")[0].appendChild(s);\n",
       "}\n",
       "\n",
       "if(typeof(LDAvis) !== \"undefined\"){\n",
       "   // already loaded: just create the visualization\n",
       "   !function(LDAvis){\n",
       "       new LDAvis(\"#\" + \"ldavis_el796424351737644483420542492\", ldavis_el796424351737644483420542492_data);\n",
       "   }(LDAvis);\n",
       "}else if(typeof define === \"function\" && define.amd){\n",
       "   // require.js is available: use it to load d3/LDAvis\n",
       "   require.config({paths: {d3: \"https://d3js.org/d3.v5\"}});\n",
       "   require([\"d3\"], function(d3){\n",
       "      window.d3 = d3;\n",
       "      LDAvis_load_lib(\"https://cdn.jsdelivr.net/gh/bmabey/pyLDAvis@3.3.1/pyLDAvis/js/ldavis.v3.0.0.js\", function(){\n",
       "        new LDAvis(\"#\" + \"ldavis_el796424351737644483420542492\", ldavis_el796424351737644483420542492_data);\n",
       "      });\n",
       "    });\n",
       "}else{\n",
       "    // require.js not available: dynamically load d3 & LDAvis\n",
       "    LDAvis_load_lib(\"https://d3js.org/d3.v5.js\", function(){\n",
       "         LDAvis_load_lib(\"https://cdn.jsdelivr.net/gh/bmabey/pyLDAvis@3.3.1/pyLDAvis/js/ldavis.v3.0.0.js\", function(){\n",
       "                 new LDAvis(\"#\" + \"ldavis_el796424351737644483420542492\", ldavis_el796424351737644483420542492_data);\n",
       "            })\n",
       "         });\n",
       "}\n",
       "</script>"
      ],
      "text/plain": [
       "PreparedData(topic_coordinates=              x         y  topics  cluster       Freq\n",
       "topic                                                \n",
       "3     -0.061010  0.296258       1        1  20.940189\n",
       "1     -0.104909 -0.337854       2        1  20.897593\n",
       "2     -0.318597  0.074241       3        1  18.200924\n",
       "0      0.222405  0.195200       4        1  17.098496\n",
       "5      0.313367 -0.164893       5        1  11.612052\n",
       "4     -0.051256 -0.062952       6        1  11.250746, topic_info=          Term       Freq      Total Category  logprob  loglift\n",
       "84         jai  74.000000  74.000000  Default  30.0000  30.0000\n",
       "737  telangana  57.000000  57.000000  Default  29.0000  29.0000\n",
       "166    support  45.000000  45.000000  Default  28.0000  28.0000\n",
       "743      media  57.000000  57.000000  Default  27.0000  27.0000\n",
       "367      world  52.000000  52.000000  Default  26.0000  26.0000\n",
       "..         ...        ...        ...      ...      ...      ...\n",
       "658      supar   2.766339   3.468312   Topic6  -4.9180   1.9586\n",
       "677      curry   2.704671   3.393158   Topic6  -4.9406   1.9580\n",
       "693       vadu   2.700537   3.392943   Topic6  -4.9421   1.9565\n",
       "319    perfect   5.577030   7.380752   Topic6  -4.2169   1.9045\n",
       "154        fan   2.736649  30.456848   Topic6  -4.9288  -0.2248\n",
       "\n",
       "[231 rows x 6 columns], token_table=      Topic      Freq     Term\n",
       "term                          \n",
       "605       1  0.744715       10\n",
       "605       2  0.165492       10\n",
       "13        5  0.689231     abba\n",
       "150       2  0.887965  account\n",
       "20        4  0.942073   acting\n",
       "...     ...       ...      ...\n",
       "399       5  0.639724    worst\n",
       "621       6  0.911605      wow\n",
       "560       4  0.885304    years\n",
       "272       6  0.942111   yentha\n",
       "510       2  0.962882  zealand\n",
       "\n",
       "[209 rows x 3 columns], R=30, lambda_step=0.01, plot_opts={'xlab': 'PC1', 'ylab': 'PC2'}, topic_order=[4, 2, 3, 1, 6, 5])"
      ]
     },
     "execution_count": 26,
     "metadata": {},
     "output_type": "execute_result"
    }
   ],
   "source": [
    "pyLDAvis.enable_notebook()\n",
    "vis = pyLDAvis.gensim_models.prepare(optimal_model, corpus, id2word, mds=\"mmds\")\n",
    "pyLDAvis.save_html(vis,\"lda.html\")\n",
    "vis"
   ]
  },
  {
   "cell_type": "markdown",
   "id": "44ec165f",
   "metadata": {},
   "source": [
    "# Testing"
   ]
  },
  {
   "cell_type": "code",
   "execution_count": 36,
   "id": "3a2ab907",
   "metadata": {
    "scrolled": true
   },
   "outputs": [],
   "source": [
    "#new_sentence =\"esari world cup india gelustundi\"\n",
    "new_sentence =\"ntr acting movies lo baguntundi\"\n",
    "#new_sentence =\"india team lo virat form loki vacchadu\"\n",
    "#new_sentence = \"kcr trs ki goppa nayakudu\"\n",
    "#new_sentence = \"middle class madhu comedy super\""
   ]
  },
  {
   "cell_type": "code",
   "execution_count": 37,
   "id": "74bec77f",
   "metadata": {},
   "outputs": [
    {
     "name": "stdout",
     "output_type": "stream",
     "text": [
      "[(20, 1), (81, 1), (644, 1), (690, 1)]\n",
      "Top topic:  [('class', 0.045904193), ('madhu', 0.044594195), ('middle', 0.043744143), ('film', 0.040639926), ('match', 0.03589755), ('short', 0.02973486), ('ever', 0.020647), ('stokes', 0.018511087), ('real', 0.017931147), ('mahesh', 0.015937911)]\n",
      "class\n",
      "Associated %:  42.08 %\n",
      "The topic name:  Entertainment (movies,serials,webseries)\n"
     ]
    }
   ],
   "source": [
    "import numpy as np\n",
    "bow = id2word.doc2bow([word for word in new_sentence.split()])\n",
    "topics = sorted(optimal_model.get_document_topics(bow), key=lambda x: (x[1]), reverse=True)\n",
    "\n",
    "# Print the top topic and its associated percentage\n",
    "print(bow)\n",
    "print(\"Top topic: \", optimal_model.show_topic(topics[0][0]))\n",
    "temp=optimal_model.show_topic(topics[0][0])\n",
    "topic_name=''\n",
    "print(temp[0][0])\n",
    "if(temp[0][0]=='world' or temp[0][0]=='england' or temp[0][0]=='match'):\n",
    "    topic_name=\"Sports\"\n",
    "elif(temp[0][0]=='class' or temp[0][0]=='movie' or temp[0][0]=='jai'):\n",
    "    topic_name=\"Entertainment (movies,serials,webseries)\"\n",
    "elif(temp[0][0]=='support'):\n",
    "    topic_name=\"Politics\"\n",
    "else:\n",
    "    topic_name=\"I'm Sorry I couldn't find!!\"\n",
    "    \n",
    "\n",
    "#print(\"Top topic:\",topics[0])\n",
    "print(\"Associated %: \", np.round(topics[0][1]*100,2), \"%\")\n",
    "print(\"The topic name: \",topic_name)\n"
   ]
  },
  {
   "cell_type": "code",
   "execution_count": 31,
   "id": "1d2e141c",
   "metadata": {},
   "outputs": [
    {
     "name": "stdout",
     "output_type": "stream",
     "text": [
      "[(1, 0.5321348), (0, 0.2886024), (3, 0.06234497), (2, 0.049015656), (5, 0.040858027), (4, 0.02704412)]\n"
     ]
    }
   ],
   "source": [
    "testdata = pd.read_csv('testing.csv')\n",
    "print (testdata)"
   ]
  },
  {
   "cell_type": "code",
   "execution_count": null,
   "id": "560b87e0",
   "metadata": {},
   "outputs": [],
   "source": [
    "for x in testdata['comment']:\n",
    "    print(x)\n",
    "    testbow = id2word.doc2bow([word for word in x.split()])\n",
    "    testtopics = sorted(optimal_model.get_document_topics(testbow), key=lambda x: (x[1]), reverse=True)\n",
    "    \n",
    "    temp=optimal_model.show_topic(testtopics[0][0])\n",
    "    topic_name=[]\n",
    "    if(temp[0][0]=='world' or temp[0][0]=='england' or temp[0][0]=='match'):\n",
    "        topic_name.append(\"Sports\")\n",
    "    elif(temp[0][0]=='class' or temp[0][0]=='movie' or temp[0][0]=='jai'):\n",
    "        topic_name.append(\"Entertainment (movies,serials,webseries)\")\n",
    "    elif(temp[0][0]=='support'):\n",
    "        topic_name.append(\"Politics\")\n",
    "    else:\n",
    "        topic_name.append(\"I'm Sorry I couldn't find!!\")\n",
    "    print(topic_name)\n",
    "    print(\"\\n\")\n",
    "    testdata['topic']=x in topic_name\n",
    "    "
   ]
  }
 ],
 "metadata": {
  "kernelspec": {
   "display_name": "Python 3 (ipykernel)",
   "language": "python",
   "name": "python3"
  },
  "language_info": {
   "codemirror_mode": {
    "name": "ipython",
    "version": 3
   },
   "file_extension": ".py",
   "mimetype": "text/x-python",
   "name": "python",
   "nbconvert_exporter": "python",
   "pygments_lexer": "ipython3",
   "version": "3.9.5"
  }
 },
 "nbformat": 4,
 "nbformat_minor": 5
}
